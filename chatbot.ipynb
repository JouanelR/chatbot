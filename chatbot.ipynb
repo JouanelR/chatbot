{
 "cells": [
  {
   "cell_type": "code",
   "execution_count": 1,
   "metadata": {},
   "outputs": [],
   "source": [
    "import spacy\n",
    "import json\n",
    "import random\n",
    "import warnings\n",
    "warnings.filterwarnings(\"ignore\")"
   ]
  },
  {
   "cell_type": "code",
   "execution_count": 7,
   "metadata": {},
   "outputs": [],
   "source": [
    "# Charger le modèle de langue français de spaCy\n",
    "nlp = spacy.load(\"fr_core_news_sm\")\n",
    "\n",
    "# Charger le fichier intents.json\n",
    "with open('intents.json', 'r') as file:\n",
    "    intents = json.load(file)"
   ]
  },
  {
   "cell_type": "code",
   "execution_count": 4,
   "metadata": {},
   "outputs": [],
   "source": [
    "def get_intent(user_input):\n",
    "    doc = nlp(user_input)\n",
    "    intent_name = \"\"\n",
    "    max_similarity = 0.0\n",
    "    for intent in intents[\"intents\"]:\n",
    "        for example in intent['patterns']:\n",
    "            example_doc = nlp(example)\n",
    "            similarity = doc.similarity(example_doc)\n",
    "            if similarity > max_similarity:\n",
    "                max_similarity = similarity\n",
    "                intent_name = intent['tag']\n",
    "    return intent_name\n",
    "\n",
    "def get_response(intent_name):\n",
    "    for intent in intents[\"intents\"]:\n",
    "        if intent['tag'] == intent_name:\n",
    "            responses = intent['responses']\n",
    "            return random.choice(responses)"
   ]
  },
  {
   "attachments": {},
   "cell_type": "markdown",
   "metadata": {},
   "source": [
    "La premiere fonction sert a trouver, grace aux exemples dans le fichier json, a quel tag correspond la phrase donnee en entree ( salutation, question liste, poeme)\n",
    "\n",
    "La seconde permet de trouver la reponse a la question posee en entree, en fonction du tag trouve precedemment"
   ]
  },
  {
   "cell_type": "code",
   "execution_count": 11,
   "metadata": {},
   "outputs": [],
   "source": [
    "import re\n",
    "\n",
    "def remove_non_printable(text):\n",
    "    pattern = r'[^\\x20-\\x7E\\n]'\n",
    "    cleaned_text = re.sub(pattern, '', text)\n",
    "    return cleaned_text"
   ]
  },
  {
   "cell_type": "code",
   "execution_count": 14,
   "metadata": {},
   "outputs": [
    {
     "name": "stdout",
     "output_type": "stream",
     "text": [
      "User: Bonjour, comment ça va ?\n",
      "Chatbot: Bonjour ! Je vais tres bien, merci. Et toi ?\n",
      "User: Expliquez-moi comment fonctionne une liste en Python.\n",
      "Chatbot: En Python, une liste est une structure de donnees qui permet de stocker et d'organiser plusieurs elements de maniere ordonnee et modifiable.\n",
      "Elle est definie en utilisant des crochets [] et les elements sont separes par des virgules.\n",
      "User: Pouvez-vous générer un poème sur un arc-en-ciel ?\n",
      "Chatbot: Dans le ciel aprs l averse,\n",
      "Apparait un doux univers,Un tableau de couleurs vives,\n",
      "Qui enchante nos yeux avides.\n",
      "\n",
      "L'arc-en-ciel se dploie firement,\n",
      "Un pont entre le ciel et la terre,\n",
      "Sept nuances qui se complmentent,\n",
      "Une symphonie de lumires phmres.\n"
     ]
    }
   ],
   "source": [
    "while True:\n",
    "    user_input = input(\"Vous: \")\n",
    "    if user_input == \"exit\":\n",
    "        break\n",
    "    intent_name = get_intent(user_input)\n",
    "    chatbot_response = get_response(intent_name)\n",
    "    print(\"User:\", user_input)\n",
    "    print(\"Chatbot:\", remove_non_printable(chatbot_response))"
   ]
  }
 ],
 "metadata": {
  "kernelspec": {
   "display_name": "Python 3",
   "language": "python",
   "name": "python3"
  },
  "language_info": {
   "codemirror_mode": {
    "name": "ipython",
    "version": 3
   },
   "file_extension": ".py",
   "mimetype": "text/x-python",
   "name": "python",
   "nbconvert_exporter": "python",
   "pygments_lexer": "ipython3",
   "version": "3.11.2"
  },
  "orig_nbformat": 4
 },
 "nbformat": 4,
 "nbformat_minor": 2
}
